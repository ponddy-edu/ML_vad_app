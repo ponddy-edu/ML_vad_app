{
 "cells": [
  {
   "cell_type": "code",
   "execution_count": 16,
   "metadata": {},
   "outputs": [],
   "source": [
    "import glob\n",
    "import tensorflow as tf\n",
    "\n",
    "import utils as utils\n",
    "import numpy as np\n",
    "import os, sys\n",
    "\n",
    "model_dir = \"/home/george/Documents/video_transcript_project/voice_activity_detection/VAD/saved_model\"\n",
    "graph_list = sorted(glob.glob(model_dir + '/backup/backup_pb/frozen_model_DNN.pb'))\n",
    "norm_dir = model_dir + '/backup/backup_norm'\n",
    "fname_model = graph_list[-1]\n",
    "test_file_dir = \"/home/george/Documents/video_transcript_project/voice_activity_detection/VAD/sample_data\"\n",
    "norm_dir = \"/home/george/Documents/video_transcript_project/voice_activity_detection/VAD/saved_model/backup/backup_norm\"\n",
    "data_len = 3890\n",
    "is_default = 1\n",
    "model_type = 2"
   ]
  },
  {
   "cell_type": "code",
   "execution_count": 17,
   "metadata": {},
   "outputs": [],
   "source": [
    "def load_graph(frozen_graph_filename):\n",
    "    # We load the protobuf file from the disk and parse it to retrieve the\n",
    "    # unserialized graph_def\n",
    "    with tf.gfile.GFile(frozen_graph_filename, \"rb\") as f:\n",
    "        graph_def = tf.GraphDef()\n",
    "        graph_def.ParseFromString(f.read())\n",
    "\n",
    "    # Then, we import the graph_def into a new Graph and returns it\n",
    "    with tf.Graph().as_default() as graph:\n",
    "        # The name var will prefix every op/nodes in your graph\n",
    "        # Since we load everything in a new graph, this is not needed\n",
    "        tf.import_graph_def(graph_def, name=\"prefix\")\n",
    "    return graph"
   ]
  },
  {
   "cell_type": "code",
   "execution_count": 18,
   "metadata": {},
   "outputs": [],
   "source": [
    "eval_input_dir = test_file_dir\n",
    "eval_output_dir = test_file_dir + '/Labels'\n",
    "\n",
    "graph = load_graph(fname_model)"
   ]
  },
  {
   "cell_type": "code",
   "execution_count": 19,
   "metadata": {},
   "outputs": [
    {
     "name": "stdout",
     "output_type": "stream",
     "text": [
      "/home/george/Documents/video_transcript_project/voice_activity_detection/VAD/lib/python/configure/DNN\n"
     ]
    }
   ],
   "source": [
    "w = 19\n",
    "u = 9\n",
    "final_softout = []\n",
    "final_label = []\n",
    "import data_reader_DNN_v2 as dnn_dr\n",
    "print(os.path.abspath('./configure/DNN'))\n",
    "sys.path.insert(0, os.path.abspath('./configure/DNN'))\n",
    "import config as cg\n",
    "w = 19\n",
    "u = 9\n",
    "valid_batch_size = 4096"
   ]
  },
  {
   "cell_type": "code",
   "execution_count": 20,
   "metadata": {},
   "outputs": [],
   "source": [
    "valid_data_set = dnn_dr.DataReader(eval_input_dir, eval_output_dir, norm_dir, w=w, u=u, name=\"eval\")"
   ]
  },
  {
   "cell_type": "code",
   "execution_count": 21,
   "metadata": {},
   "outputs": [
    {
     "data": {
      "text/plain": [
       "<data_reader_DNN_v2.DataReader at 0x7f5d21276b38>"
      ]
     },
     "execution_count": 21,
     "metadata": {},
     "output_type": "execute_result"
    }
   ],
   "source": [
    "valid_data_set"
   ]
  },
  {
   "cell_type": "code",
   "execution_count": 22,
   "metadata": {},
   "outputs": [],
   "source": [
    "node_inputs = graph.get_tensor_by_name('prefix/model_1/inputs:0')\n",
    "node_labels = graph.get_tensor_by_name('prefix/model_1/labels:0')\n",
    "node_keep_probability = graph.get_tensor_by_name('prefix/model_1/keep_probabilty:0')\n",
    "\n",
    "node_softpred = graph.get_tensor_by_name('prefix/model_1/soft_pred:0')\n",
    "node_raw_labels = graph.get_tensor_by_name('prefix/model_1/raw_labels:0')"
   ]
  },
  {
   "cell_type": "code",
   "execution_count": 23,
   "metadata": {},
   "outputs": [],
   "source": [
    "valid_inputs, valid_labels = valid_data_set.next_batch(valid_batch_size)"
   ]
  },
  {
   "cell_type": "code",
   "execution_count": 25,
   "metadata": {},
   "outputs": [
    {
     "data": {
      "text/plain": [
       "(4096, 5376)"
      ]
     },
     "execution_count": 25,
     "metadata": {},
     "output_type": "execute_result"
    }
   ],
   "source": [
    "valid_inputs.shape"
   ]
  },
  {
   "cell_type": "code",
   "execution_count": 27,
   "metadata": {},
   "outputs": [
    {
     "data": {
      "text/plain": [
       "(4096, 1)"
      ]
     },
     "execution_count": 27,
     "metadata": {},
     "output_type": "execute_result"
    }
   ],
   "source": [
    "valid_labels.shape"
   ]
  },
  {
   "cell_type": "code",
   "execution_count": 3,
   "metadata": {},
   "outputs": [],
   "source": [
    "from myMRCG.mrcg_extract import extract_mrcg_feats"
   ]
  },
  {
   "cell_type": "code",
   "execution_count": null,
   "metadata": {},
   "outputs": [],
   "source": []
  }
 ],
 "metadata": {
  "kernelspec": {
   "display_name": "Python 3",
   "language": "python",
   "name": "python3"
  },
  "language_info": {
   "codemirror_mode": {
    "name": "ipython",
    "version": 3
   },
   "file_extension": ".py",
   "mimetype": "text/x-python",
   "name": "python",
   "nbconvert_exporter": "python",
   "pygments_lexer": "ipython3",
   "version": "3.6.8"
  }
 },
 "nbformat": 4,
 "nbformat_minor": 2
}

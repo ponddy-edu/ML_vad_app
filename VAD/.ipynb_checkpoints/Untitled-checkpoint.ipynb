{
 "cells": [
  {
   "cell_type": "code",
   "execution_count": 3,
   "metadata": {},
   "outputs": [],
   "source": [
    "from VAD_evaluation import VAD_evaluation\n",
    "import numpy as np"
   ]
  },
  {
   "cell_type": "code",
   "execution_count": 1,
   "metadata": {},
   "outputs": [],
   "source": [
    "audio_file = \"/home/george/Documents/video_transcript_project/whole_process/bennysci.wav\"\n",
    "mode = 2\n",
    "threshold = 0.4\n",
    "output_type = 1\n",
    "is_default = 1"
   ]
  },
  {
   "cell_type": "code",
   "execution_count": 5,
   "metadata": {},
   "outputs": [
    {
     "name": "stdout",
     "output_type": "stream",
     "text": [
      "/home/george/Documents/video_transcript_project/voice_activity_detection/VAD/configure/DNN\n",
      "/home/george/Documents/video_transcript_project/voice_activity_detection/VAD/configure/DNN\n",
      "(9442, 768)\n",
      "(9442, 768)\n",
      "9442\n",
      "1.5072047710418701\n",
      "=== evaluation done ===\n"
     ]
    }
   ],
   "source": [
    "result, pred, sr = VAD_evaluation(audio_file, mode, threshold, output_type, is_default)"
   ]
  },
  {
   "cell_type": "code",
   "execution_count": 6,
   "metadata": {},
   "outputs": [
    {
     "data": {
      "text/plain": [
       "array([ True,  True,  True, ...,  True,  True,  True])"
      ]
     },
     "execution_count": 6,
     "metadata": {},
     "output_type": "execute_result"
    }
   ],
   "source": [
    "result_invert=np.logical_not(result)\n",
    "result_invert"
   ]
  },
  {
   "cell_type": "code",
   "execution_count": 7,
   "metadata": {},
   "outputs": [
    {
     "data": {
      "text/plain": [
       "564400"
      ]
     },
     "execution_count": 7,
     "metadata": {},
     "output_type": "execute_result"
    }
   ],
   "source": [
    "a = np.where(result_invert)[0]\n",
    "len(a)"
   ]
  },
  {
   "cell_type": "code",
   "execution_count": 8,
   "metadata": {},
   "outputs": [],
   "source": [
    "from itertools import groupby\n",
    "from operator import itemgetter"
   ]
  },
  {
   "cell_type": "code",
   "execution_count": 9,
   "metadata": {
    "scrolled": true
   },
   "outputs": [
    {
     "data": {
      "text/plain": [
       "69"
      ]
     },
     "execution_count": 9,
     "metadata": {},
     "output_type": "execute_result"
    }
   ],
   "source": [
    "b = []\n",
    "for k,g in groupby(enumerate(a), lambda ix : ix[0] - ix[1]):\n",
    "    consecutive = list(map(itemgetter(1), g))\n",
    "    b.append(consecutive)\n",
    "    #if len(consecutive) >= 16000:\n",
    "    #    time_interval = (consecutive[0] / 16000.0, consecutive[-1] / 16000.0)\n",
    "    #    b.append(time_interval)\n",
    "len(b)"
   ]
  },
  {
   "cell_type": "code",
   "execution_count": 10,
   "metadata": {
    "scrolled": false
   },
   "outputs": [
    {
     "data": {
      "text/plain": [
       "[(0.59, 1.8749375),\n",
       " (2.44, 4.4649375),\n",
       " (5.27, 6.5349375),\n",
       " (7.56, 8.4549375),\n",
       " (9.02, 11.1649375),\n",
       " (12.02, 13.0949375),\n",
       " (13.95, 14.8649375),\n",
       " (15.54, 17.3349375),\n",
       " (18.21, 19.4149375),\n",
       " (19.64, 20.2949375),\n",
       " (21.25, 21.8749375),\n",
       " (22.41, 23.3549375),\n",
       " (23.84, 26.2349375),\n",
       " (27.46, 29.5649375),\n",
       " (30.24, 33.8149375),\n",
       " (34.49, 35.8149375),\n",
       " (37.14, 38.4549375),\n",
       " (39.0, 40.8849375),\n",
       " (41.42, 41.8749375),\n",
       " (42.64, 43.7549375),\n",
       " (44.91, 47.8849375),\n",
       " (49.01, 49.5149375),\n",
       " (50.14, 51.0549375),\n",
       " (52.04, 52.8449375),\n",
       " (53.33, 54.0849375),\n",
       " (54.37, 55.1049375),\n",
       " (55.33, 55.8249375),\n",
       " (57.43, 57.8149375),\n",
       " (58.05, 59.3449375),\n",
       " (60.29, 60.9549375),\n",
       " (61.22, 63.0749375),\n",
       " (63.45, 63.9349375),\n",
       " (66.11, 66.3249375),\n",
       " (66.64, 67.4349375),\n",
       " (68.35, 71.5149375),\n",
       " (72.31, 74.7749375),\n",
       " (75.52, 77.7049375),\n",
       " (79.02, 80.2849375),\n",
       " (81.02, 81.6049375),\n",
       " (81.93, 82.5549375),\n",
       " (82.92, 83.5749375),\n",
       " (84.13, 86.9249375),\n",
       " (87.76, 88.3249375),\n",
       " (88.86, 90.3349375),\n",
       " (90.99, 92.9249375),\n",
       " (93.18, 93.4949375)]"
      ]
     },
     "execution_count": 10,
     "metadata": {},
     "output_type": "execute_result"
    }
   ],
   "source": [
    "time_intervals = []\n",
    "silence_threshold = 3200\n",
    "for i, c in enumerate(b):\n",
    "    if i == 0:\n",
    "        begin = c[-1]+1\n",
    "        continue\n",
    "    elif i == len(b)-1:\n",
    "        end = c[0]-1\n",
    "        time_intervals.append((begin / 16000.0, end / 16000.0))\n",
    "    else:\n",
    "        if len(c) >= silence_threshold:\n",
    "            end = c[0]-1\n",
    "            time_intervals.append((begin / 16000.0, end / 16000.0))\n",
    "            begin = c[-1]+1\n",
    "        else:\n",
    "            continue\n",
    "time_intervals"
   ]
  },
  {
   "cell_type": "code",
   "execution_count": null,
   "metadata": {},
   "outputs": [],
   "source": []
  }
 ],
 "metadata": {
  "kernelspec": {
   "display_name": "Python 3",
   "language": "python",
   "name": "python3"
  },
  "language_info": {
   "codemirror_mode": {
    "name": "ipython",
    "version": 3
   },
   "file_extension": ".py",
   "mimetype": "text/x-python",
   "name": "python",
   "nbconvert_exporter": "python",
   "pygments_lexer": "ipython3",
   "version": "3.6.8"
  }
 },
 "nbformat": 4,
 "nbformat_minor": 2
}

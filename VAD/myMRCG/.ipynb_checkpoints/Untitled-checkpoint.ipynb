{
 "cells": [
  {
   "cell_type": "code",
   "execution_count": 254,
   "metadata": {},
   "outputs": [],
   "source": [
    "import soundfile as sf\n",
    "from scipy.signal import lfilter\n",
    "speech, sr = sf.read(\"/home/george/Downloads/eat.wav\")"
   ]
  },
  {
   "cell_type": "code",
   "execution_count": 278,
   "metadata": {},
   "outputs": [],
   "source": [
    "import numpy as np\n",
    "import scipy.io\n",
    "from olafilt import olafilt\n",
    "\n",
    "\n",
    "def hz2erb(hz):\n",
    "    # Convert normal frequency scale in hz to ERB-rate scale.\n",
    "    # Units are number of Hz and number of ERBs.\n",
    "    # ERB stands for Equivalent Rectangular Bandwidth.\n",
    "    # Written by ZZ Jin, and adapted by DLW in Jan'07\n",
    "    erb = 21.4 * np.log10(4.37e-3*hz+1)\n",
    "    return erb\n",
    "\n",
    "\n",
    "def erb2hz(erb):\n",
    "    # Convert ERB-rate scale to normal frequency scale.\n",
    "    # Units are number of ERBs and number of Hz.\n",
    "    # ERB stands for Equivalent Rectangular Bandwidth.\n",
    "    # Written by ZZ Jin, and adapted by DLW in Jan'07\n",
    "    hz = (np.power(10, (erb / 21.4)) - 1) / 4.37e-3\n",
    "    return hz\n",
    "\n",
    "\n",
    "def loudness(freq):\n",
    "    # Compute loudness level in Phons on the basis of equal-loudness functions.\n",
    "    # It accounts a middle ear effect and is used for frequency-dependent gain adjustments.\n",
    "    # This function uses linear interpolation of a lookup table to compute the loudness level, \n",
    "    # in phons, of a pure tone of frequency freq using the reference curve for sound \n",
    "    # pressure level dB. The equation is taken from section 4 of BS3383.\n",
    "    # Written by ZZ Jin, and adapted by DLW in Jan'07\n",
    "    dB = 60\n",
    "    mat = scipy.io.loadmat(\"f_af_bf_cf.mat\")\n",
    "    if freq < 20 or freq > 12500:\n",
    "        return\n",
    "    i = 1\n",
    "\n",
    "    ff = np.squeeze(mat[\"ff\"])\n",
    "    af = np.squeeze(mat[\"af\"])\n",
    "    bf = np.squeeze(mat[\"bf\"])\n",
    "    cf = np.squeeze(mat[\"cf\"])\n",
    "\n",
    "    while(ff[i] < freq):\n",
    "        i += 1\n",
    "\n",
    "    afy = af[i-1] + (freq - ff[i-1]) * \\\n",
    "        (af[i] - af[i-1]) / (ff[i] - ff[i-1])\n",
    "    bfy = bf[i-1] + (freq - ff[i-1]) * \\\n",
    "        (bf[i] - bf[i-1]) / (ff[i] - ff[i-1])\n",
    "    cfy = cf[i-1] + (freq - ff[i-1]) * \\\n",
    "        (cf[i] - cf[i-1]) / (ff[i] - ff[i-1])\n",
    "    loud = 4.2 + afy * (dB-cfy) / (1 + bfy * (dB-cfy))\n",
    "    return loud\n",
    "\n",
    "def gammatone(sig_in, numChan=128, fRange=[80, 5000], fs=16000):\n",
    "    # Produce an array of filtered responses from a Gammatone filterbank.\n",
    "    # The first variable is required.\n",
    "    # numChan: number of filter channels.\n",
    "    # fRange: frequency range.\n",
    "    # fs: sampling frequency.\n",
    "    # Written by ZZ Jin, adapted by DLW in Jan'07 and JF Woodruff in Nov'08\n",
    "    filterOrder = 4     # filter order\n",
    "    gL = 2048   # gammatone filter length or 128 ms for 16 kHz sampling rate\n",
    "    fRange = np.array(fRange)\n",
    "\n",
    "    sigLength = len(sig_in)\n",
    "    phase = np.zeros(numChan)  # initial phases\n",
    "    erb_b = hz2erb(fRange)   # upper and lower bound of ERB29\n",
    "    erb = np.linspace(erb_b[0], erb_b[1], numChan)  # ERB segment\n",
    "    cf = erb2hz(erb)     # center frequency array indexed by channel\n",
    "    b = 1.019 * 24.7 * (4.37 * cf / 1000 + 1)   # rate of decay or bandwidth\n",
    "\n",
    "    # Generating gammatone impulse responses with middle-ear gain normalization\n",
    "    gt = np.zeros((numChan, gL))    # Initialization\n",
    "    tmp_t = np.arange(1, gL+1) / fs\n",
    "    for i in range(numChan):\n",
    "        gain = 10**((loudness(cf[i]) - 60) / 20) / 3 * \\\n",
    "            (2 * np.pi * b[i] / fs)**4    # loudness-based gain adjustments\n",
    "        gt[i, :] = gain * fs**3 * tmp_t**(filterOrder-1) * \\\n",
    "            np.exp(-2*np.pi*b[i]*tmp_t) * \\\n",
    "            np.cos(2*np.pi*cf[i]*tmp_t+phase[i])\n",
    "    #sig = np.reshape(sig_in, (sigLength, 1))   # convert input to column vector\n",
    "\n",
    "    # gammatone filtering using FFTFILT\n",
    "    r = np.zeros((numChan, sigLength))\n",
    "    for i in range(numChan):\n",
    "        tmp = olafilt(gt[i], sig_in)\n",
    "        r[i][:] = tmp\n",
    "    return r"
   ]
  },
  {
   "cell_type": "code",
   "execution_count": 143,
   "metadata": {
    "scrolled": true
   },
   "outputs": [
    {
     "name": "stdout",
     "output_type": "stream",
     "text": [
      "(64, 622667)\n",
      "[[-3.55753838e-20 -8.17278408e-14 -7.78429501e-13 ...  1.06405504e-06\n",
      "   1.20525082e-06  1.34468119e-06]\n",
      " [-1.52465931e-20 -2.42394756e-13 -2.30666800e-12 ... -4.72866489e-07\n",
      "  -6.95650868e-07 -9.11692180e-07]\n",
      " [-7.11507676e-20 -5.77215464e-13 -5.48716505e-12 ... -1.04015112e-06\n",
      "  -4.02146814e-07  2.37579743e-07]\n",
      " ...\n",
      " [-2.92734587e-18 -1.00172015e-10 -9.01244507e-10 ...  9.89426663e-05\n",
      "   9.62513619e-05  9.13359602e-05]\n",
      " [ 5.20417043e-18 -1.22045367e-10 -1.08834843e-09 ...  5.67208225e-05\n",
      "   3.44698676e-05  1.17441838e-05]\n",
      " [ 5.20417043e-18 -1.45929131e-10 -1.28829512e-09 ... -1.13281258e-04\n",
      "  -1.26048443e-04 -1.31784731e-04]]\n"
     ]
    }
   ],
   "source": [
    "g = gammatone(speech, 64, [50,8000], sr)"
   ]
  },
  {
   "cell_type": "code",
   "execution_count": 144,
   "metadata": {},
   "outputs": [],
   "source": [
    "winLength = sr * 0.025\n",
    "winShift = int(sr * 0.010)\n",
    "numChan, sigLength = g.shape\n",
    "increment = winLength / winShift\n",
    "M = np.floor(sigLength / winShift).astype(int)\n",
    "a = np.zeros((numChan, M))"
   ]
  },
  {
   "cell_type": "code",
   "execution_count": 145,
   "metadata": {},
   "outputs": [],
   "source": [
    "ans = g[0, 0:3891*winShift]"
   ]
  },
  {
   "cell_type": "code",
   "execution_count": 146,
   "metadata": {},
   "outputs": [
    {
     "data": {
      "text/plain": [
       "(622560,)"
      ]
     },
     "execution_count": 146,
     "metadata": {},
     "output_type": "execute_result"
    }
   ],
   "source": [
    "ans.shape"
   ]
  },
  {
   "cell_type": "code",
   "execution_count": 147,
   "metadata": {},
   "outputs": [],
   "source": [
    "def cochleagram(r, winShift, winLength=320):\n",
    "    # Generate a cochleagram from responses of a Gammatone filterbank.\n",
    "    # It gives the log energy of T-F units\n",
    "    # The first variable is required.\n",
    "    # winLength: window (frame) length in samples\n",
    "    # Written by ZZ Jin, and adapted by DLW in Jan'07\n",
    "    winShift = int(winShift)\n",
    "    winLength = int(winLength)\n",
    "    numChan, sigLength = r.shape\n",
    "\n",
    "    increment = winLength / winShift\n",
    "    M = np.floor(sigLength / winShift).astype(int)\n",
    "\n",
    "    # calculate energy for each frame in each channel\n",
    "    a = np.zeros((numChan, M))\n",
    "    for m in range(M):\n",
    "        for i in range(numChan):\n",
    "            if m+1 < increment:       # shorter frame lengths for beginning frames\n",
    "                a[i, m] = np.dot(r[i, 0:(m+1)*winShift], r[i, 0:(m+1)*winShift])\n",
    "            else:\n",
    "                startpoint = int((m + 1 - increment) * winShift)\n",
    "                a[i, m] = np.dot(r[i, startpoint:startpoint+winLength], r[i, startpoint:startpoint+winLength])\n",
    "    return a"
   ]
  },
  {
   "cell_type": "code",
   "execution_count": 270,
   "metadata": {},
   "outputs": [],
   "source": [
    "def get_avg(m, v_span, h_span):\n",
    "    # This function produces a smoothed version of cochleagram\n",
    "    nr, nc = m.shape\n",
    "    out = np.zeros((nr, nc))\n",
    "    fil_size = (2 * v_span + 1) * (2 * h_span + 1)\n",
    "    \n",
    "    for i in range(nr):\n",
    "        row_begin = 0\n",
    "        row_end = nr\n",
    "        col_begin = 0\n",
    "        col_end = nc\n",
    "        \n",
    "        if (i - v_span) >= 0:\n",
    "            row_begin = i - v_span\n",
    "        if (i + v_span) <= nr-1:\n",
    "            row_end = i + v_span + 1\n",
    "        \n",
    "        for j in range(nc):\n",
    "            if (j - h_span) >= 0:\n",
    "                col_begin = j - h_span\n",
    "            if (j + h_span) <= nc-1:\n",
    "                col_end = j + h_span + 1\n",
    "            \n",
    "            tmp = m[row_begin:row_end, col_begin:col_end]\n",
    "            out[i,j] = np.sum(tmp) / fil_size\n",
    "    return out\n",
    "\n",
    "def deltas(x, w=9):\n",
    "    nr, nc = x.shape\n",
    "\n",
    "    # Define window shape\n",
    "    hlen = np.floor(w/2)\n",
    "    w = 2*hlen + 1\n",
    "    win = np.arange(hlen, -hlen-1, -1)\n",
    "    \n",
    "    # pad data by repeating first and last columns\n",
    "    xx = np.hstack((np.tile(x[:, 0], (int(hlen), 1)).T, x, np.tile(x[:, -1], (int(hlen), 1)).T))\n",
    "\n",
    "    d = lfilter(win, 1, xx, 1)  # filter along dim 1 (rows)\n",
    "\n",
    "    d = d[:, int(2*hlen):int(2*hlen)+nc]\n",
    "\n",
    "    return d"
   ]
  },
  {
   "cell_type": "code",
   "execution_count": 228,
   "metadata": {},
   "outputs": [],
   "source": [
    "coc = cochleagram(g, winLength = sr*0.025, winShift=sr*0.010)\n",
    "coc[coc==0] = 10**-100\n",
    "coc = np.log10(coc)"
   ]
  },
  {
   "cell_type": "code",
   "execution_count": 282,
   "metadata": {},
   "outputs": [],
   "source": [
    "def MRCG_features(sig, sampFreq):\n",
    "    # This function compute MRCG features\n",
    "    beta = 1000 / np.sqrt(np.sum(sig**2) / len(sig))\n",
    "    sig = sig * beta\n",
    "    # sig = np.reshape(sig, (sig.shape[0], 1))\n",
    "    g = gammatone(sig, 64, [50, 8000], sampFreq)    # Gammatone filterbank responses\n",
    "\n",
    "    cochlea1 = cochleagram(g, winLength=sampFreq*0.025, winShift=sampFreq*0.010)\n",
    "    cochlea1[cochlea1 == 0] = 10**-100    # Avoid zero encountered in log10\n",
    "    cochlea1 = np.log10(cochlea1)\n",
    "\n",
    "    cochlea2 = cochleagram(g, winLength=sampFreq*0.200, winShift=sampFreq*0.010)\n",
    "    cochlea2[cochlea2 == 0] = 10**-100    # Avoid zero encountered in log10\n",
    "    cochlea2 = np.log10(cochlea2)\n",
    "\n",
    "    cochlea3 = get_avg(cochlea1, 5, 5)\n",
    "    cochlea4 = get_avg(cochlea1, 11, 11)\n",
    "    all_cochleas = np.vstack((cochlea1, cochlea2, cochlea3, cochlea4))\n",
    "    print(all_cochleas)"
   ]
  },
  {
   "cell_type": "code",
   "execution_count": 283,
   "metadata": {},
   "outputs": [
    {
     "name": "stdout",
     "output_type": "stream",
     "text": [
      "(64, 3891) (64, 3891) (64, 3891) (64, 3891)\n"
     ]
    }
   ],
   "source": [
    "MRCG_features(speech, sr)"
   ]
  },
  {
   "cell_type": "code",
   "execution_count": null,
   "metadata": {},
   "outputs": [],
   "source": []
  }
 ],
 "metadata": {
  "kernelspec": {
   "display_name": "Python 3",
   "language": "python",
   "name": "python3"
  },
  "language_info": {
   "codemirror_mode": {
    "name": "ipython",
    "version": 3
   },
   "file_extension": ".py",
   "mimetype": "text/x-python",
   "name": "python",
   "nbconvert_exporter": "python",
   "pygments_lexer": "ipython3",
   "version": "3.6.8"
  }
 },
 "nbformat": 4,
 "nbformat_minor": 2
}
